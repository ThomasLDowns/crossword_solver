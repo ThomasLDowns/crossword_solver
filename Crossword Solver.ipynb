{
 "cells": [
  {
   "cell_type": "code",
   "execution_count": 1,
   "metadata": {},
   "outputs": [],
   "source": [
    "file = open('feb_crossword_html.txt', 'r')\n",
    "index1 = 0\n",
    "index2 = 0\n",
    "clue_list = []\n",
    "letter_list = []"
   ]
  },
  {
   "cell_type": "code",
   "execution_count": 2,
   "metadata": {},
   "outputs": [],
   "source": [
    "# grab clues/letters\n",
    "for line in file:\n",
    "    if line.rfind(\"ClueText\") > -1:\n",
    "        index1 = line.rfind(';\">')\n",
    "        index2 = line.rfind(\"</span>\")\n",
    "        clue_list.append(line[index1 + 3:index2].replace(' ', '').upper())\n",
    "    if line.rfind(\"13.6\") > -1:\n",
    "        index1 = line.rfind(';\">')\n",
    "        index2 = line.rfind(\"</span>\")\n",
    "        letter_list.append(line[index1 + 3:index2].replace(' ', '').upper())"
   ]
  },
  {
   "cell_type": "code",
   "execution_count": 3,
   "metadata": {},
   "outputs": [],
   "source": [
    "row_len = 23\n",
    "\n",
    "def add_vectors(v1, v2):\n",
    "    return [sum(x) for x in zip(v1, v2)]\n",
    "\n",
    "def get_letter(row, col):\n",
    "    return letter_list[(23 * row) + col]\n",
    "\n",
    "def find_word_start(word):\n",
    "    print(word)\n",
    "    for i in range(row_len):\n",
    "        for j in range(row_len):\n",
    "            if get_letter(i, j) == word[0]:\n",
    "                if look_for_second_letter(word[1:], i, j, len(word)):\n",
    "                    return\n",
    "\n",
    "def look_for_second_letter(word, i, j, w_len):\n",
    "    vectors = [[-1, -1], [-1, 0], [-1, 1], [0, 1], [1, 1], [1, 0], [1, -1], [0, -1]]\n",
    "    for vec in vectors:\n",
    "        next_sqr = add_vectors([i, j], vec)\n",
    "        if next_sqr[0] < 0 or next_sqr[0] > 22 or next_sqr[1] < 0 or  next_sqr[1] > 22:\n",
    "            continue\n",
    "        if get_letter(next_sqr[0], next_sqr[1]) == word[0]:\n",
    "            if check_rest_of_word(word[1:], vec, next_sqr[0], next_sqr[1], w_len):\n",
    "                return True\n",
    "    return False\n",
    "\n",
    "def check_rest_of_word(word, vec, i, j, w_len):\n",
    "    if len(word) == 0:\n",
    "        start_sqr = [i - (vec[0] * (w_len - 1)), j - (vec[1] * (w_len - 1))]\n",
    "        print(f\"starting letter at {start_sqr[1]}, {start_sqr[0]}\")\n",
    "        return True\n",
    "    next_sqr = add_vectors([i, j], vec)\n",
    "    if next_sqr[0] < 0 or next_sqr[0] > 22 or next_sqr[1] < 0 or  next_sqr[1] > 22:\n",
    "        return False\n",
    "    if get_letter(next_sqr[0], next_sqr[1]) == word[0]:\n",
    "        return check_rest_of_word(word[1:], vec, next_sqr[0], next_sqr[1], w_len)\n",
    "    else:\n",
    "        return False"
   ]
  },
  {
   "cell_type": "code",
   "execution_count": 4,
   "metadata": {},
   "outputs": [
    {
     "name": "stdout",
     "output_type": "stream",
     "text": [
      "AUTHENTICATION\n",
      "starting letter at 13, 10\n",
      "BLUETOOTH\n",
      "starting letter at 12, 8\n",
      "BROWSER\n",
      "starting letter at 16, 20\n",
      "CACHERESET\n",
      "starting letter at 19, 7\n",
      "CERTIFICATE\n",
      "starting letter at 4, 13\n",
      "EMAILPROTECTION\n",
      "starting letter at 1, 21\n",
      "ENDUSERPORTAL\n",
      "starting letter at 0, 17\n",
      "EXCHANGEONLINE\n",
      "starting letter at 18, 19\n",
      "INTEGRATION\n",
      "starting letter at 8, 16\n",
      "INTERNETEXPLORER\n",
      "starting letter at 20, 22\n",
      "JABBER\n",
      "starting letter at 13, 2\n",
      "JAVAPLUGIN\n",
      "starting letter at 17, 18\n",
      "LONDON\n",
      "starting letter at 0, 2\n",
      "MICROSOFT\n",
      "starting letter at 4, 22\n",
      "ORACLE\n",
      "starting letter at 12, 16\n",
      "POWERPOINT\n",
      "starting letter at 22, 7\n",
      "PROCUREMENT\n",
      "starting letter at 8, 3\n",
      "REBOOTPC\n",
      "starting letter at 7, 0\n",
      "SEARCHBAR\n",
      "starting letter at 10, 15\n",
      "WORKDAY\n",
      "starting letter at 15, 6\n"
     ]
    }
   ],
   "source": [
    "for clue in clue_list:\n",
    "    find_word_start(clue)"
   ]
  },
  {
   "cell_type": "code",
   "execution_count": 5,
   "metadata": {},
   "outputs": [
    {
     "name": "stdout",
     "output_type": "stream",
     "text": [
      "00 H  X  L  D  R  Q  V  K  Z  A  N  O  W  Q  A  E  M  E  Q  E  Z  A  Z  \n",
      "01 N  P  O  C  V  O  O  X  F  G  O  K  N  N  H  C  O  N  Z  K  Q  E  P  \n",
      "02 M  L  N  C  C  S  S  V  J  E  I  Q  M  M  X  R  R  D  E  U  H  M  C  \n",
      "03 G  V  D  I  B  C  I  U  H  Z  T  X  G  W  M  T  K  U  W  U  U  A  B  \n",
      "04 H  C  O  D  C  B  N  G  N  U  A  U  I  C  T  F  O  S  O  R  C  I  M  \n",
      "05 Y  T  N  Y  Z  P  Y  E  J  U  C  J  E  T  U  G  A  E  T  E  M  L  R  \n",
      "06 G  W  O  B  G  Q  D  M  Q  B  I  R  G  G  N  K  V  R  Q  N  E  P  E  \n",
      "07 R  E  B  O  O  T  P  C  J  P  T  H  Q  S  C  H  X  P  G  I  M  R  R  \n",
      "08 I  S  R  P  T  G  E  I  J  I  N  W  Z  J  E  B  I  O  N  L  Z  O  O  \n",
      "09 W  L  E  T  R  E  A  G  F  Y  E  E  F  Z  T  N  X  R  I  N  I  T  L  \n",
      "10 W  Y  B  B  S  O  U  I  M  N  H  P  E  Y  T  S  T  T  G  O  I  E  P  \n",
      "11 Z  S  B  L  C  C  C  L  N  X  T  A  A  E  L  E  P  A  U  E  R  C  X  \n",
      "12 E  L  A  G  H  A  U  U  B  J  U  K  G  G  S  A  O  L  L  G  J  T  E  \n",
      "13 T  V  J  I  T  Q  B  D  R  I  A  R  C  E  P  R  D  V  P  N  N  I  T  \n",
      "14 I  N  A  E  N  W  A  T  Z  E  A  M  R  N  A  C  W  P  A  A  H  O  E  \n",
      "15 S  C  R  N  P  D  W  B  T  T  M  E  E  C  U  H  Y  I  V  H  A  N  N  \n",
      "16 Q  L  M  Q  N  O  A  E  I  X  H  E  L  F  R  B  T  R  A  C  B  U  R  \n",
      "17 B  A  X  T  R  O  X  O  F  C  U  E  N  F  E  A  D  Q  J  X  R  D  E  \n",
      "18 F  M  R  K  D  O  N  L  A  C  R  H  M  T  Q  R  R  Q  V  E  O  P  T  \n",
      "19 V  W  D  P  C  Y  U  C  L  I  B  F  P  Y  Y  G  M  V  N  G  W  A  N  \n",
      "20 B  A  Z  U  C  Q  D  C  W  N  T  R  Q  U  A  E  F  D  Y  L  S  I  I  \n",
      "21 Y  V  H  X  Y  C  L  C  F  L  Y  C  X  I  S  V  B  I  L  O  E  C  J  \n",
      "22 S  N  N  G  G  R  Q  P  O  W  E  R  P  O  I  N  T  Z  U  P  R  G  W  \n",
      "  00 01 02 03 04 05 06 07 08 09 10 11 12 13 14 15 16 17 18 19 20 21 22 \n"
     ]
    }
   ],
   "source": [
    "for i in range(23):\n",
    "    temp_i = \"0\" + str(i) if i < 10 else str(i)\n",
    "    temp_str = temp_i + \" \"\n",
    "    for j in range(23):\n",
    "        temp_str += get_letter(j, i) + \"  \"\n",
    "    print(temp_str)\n",
    "temp_str = \"  \"\n",
    "for i in range(23):\n",
    "    temp_i = \"0\" + str(i) if i < 10 else str(i)\n",
    "    temp_str += temp_i + \" \"\n",
    "print(temp_str)"
   ]
  }
 ],
 "metadata": {
  "kernelspec": {
   "display_name": "Python 3",
   "language": "python",
   "name": "python3"
  },
  "language_info": {
   "codemirror_mode": {
    "name": "ipython",
    "version": 3
   },
   "file_extension": ".py",
   "mimetype": "text/x-python",
   "name": "python",
   "nbconvert_exporter": "python",
   "pygments_lexer": "ipython3",
   "version": "3.7.1"
  }
 },
 "nbformat": 4,
 "nbformat_minor": 2
}
